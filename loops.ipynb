{
 "cells": [
  {
   "cell_type": "code",
   "execution_count": 1,
   "id": "6362a982",
   "metadata": {},
   "outputs": [
    {
     "name": "stdout",
     "output_type": "stream",
     "text": [
      "Hey you!\n",
      "Hey you!\n",
      "Hey you!\n"
     ]
    }
   ],
   "source": [
    "#WHILE LOOP\n",
    "# Take user input\n",
    "number = 2  \n",
    "\n",
    "# Condition of the while loop\n",
    "while number < 5 :  \n",
    "    print(\"Hey you!\")\n",
    "    # Increment the value of the variable \"number by 1\"\n",
    "    number = number+1"
   ]
  },
  {
   "cell_type": "code",
   "execution_count": 2,
   "id": "f62e3fba",
   "metadata": {},
   "outputs": [
    {
     "name": "stdout",
     "output_type": "stream",
     "text": [
      "How you doing?\n",
      "How you doing?\n",
      "How you doing?\n",
      "How you doing?\n",
      "How you doing?\n"
     ]
    }
   ],
   "source": [
    "#FOR LOOP\n",
    "# Print \"How you doing?\" 5 times\n",
    "for number in range(5):\n",
    "    print(\"How you doing?\")\n"
   ]
  },
  {
   "cell_type": "code",
   "execution_count": null,
   "id": "7d55bbd9",
   "metadata": {},
   "outputs": [],
   "source": []
  }
 ],
 "metadata": {
  "kernelspec": {
   "display_name": "Python 3",
   "language": "python",
   "name": "python3"
  },
  "language_info": {
   "codemirror_mode": {
    "name": "ipython",
    "version": 3
   },
   "file_extension": ".py",
   "mimetype": "text/x-python",
   "name": "python",
   "nbconvert_exporter": "python",
   "pygments_lexer": "ipython3",
   "version": "3.8.8"
  }
 },
 "nbformat": 4,
 "nbformat_minor": 5
}
